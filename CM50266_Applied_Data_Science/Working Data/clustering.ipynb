{
 "cells": [
  {
   "cell_type": "code",
   "id": "initial_id",
   "metadata": {
    "collapsed": true
   },
   "source": [
    "import pandas as pd\n",
    "import matplotlib.pyplot as plt\n",
    "from sklearn.preprocessing import StandardScaler\n",
    "from sklearn.cluster import KMeans"
   ],
   "outputs": [],
   "execution_count": null
  },
  {
   "metadata": {},
   "cell_type": "code",
   "source": [
    "data_borough = pd.read_csv('year_borough_grocery.csv')\n",
    "data_osward = pd.read_csv('year_osward_grocery.csv')\n",
    "data_msoa = pd.read_csv('year_msoa_grocery.csv')\n",
    "data_lsoa = pd.read_csv('year_lsoa_grocery.csv')"
   ],
   "id": "80c8c22257a39fe1",
   "outputs": [],
   "execution_count": null
  },
  {
   "metadata": {},
   "cell_type": "code",
   "source": [
    "features = data_borough[['population', 'male', 'female', 'age_0_17', 'age_18_64', 'age_65+', 'avg_age', 'area_sq_km', 'people_per_sq_km', 'weight', 'volume']]\n",
    "# features = features.fillna(features.mean())\n",
    "scaler = StandardScaler()\n",
    "features_scaled = scaler.fit_transform(features)"
   ],
   "id": "5bd2c42defc0f955",
   "outputs": [],
   "execution_count": null
  },
  {
   "metadata": {},
   "cell_type": "code",
   "source": [
    "wcss = []\n",
    "for i in range(1, 11):\n",
    "    kmeans = KMeans(n_clusters=i, random_state=0)\n",
    "    kmeans.fit(features_scaled)\n",
    "    wcss.append(kmeans.inertia_)"
   ],
   "id": "475c80369f959fd8",
   "outputs": [],
   "execution_count": null
  },
  {
   "metadata": {},
   "cell_type": "code",
   "source": [
    "plt.plot(range(1, 11), wcss)\n",
    "plt.title('Elbow Method')\n",
    "plt.xlabel('Number of clusters')\n",
    "plt.ylabel('WCSS')\n",
    "plt.show()"
   ],
   "id": "2fc566e3d19a35ff",
   "outputs": [],
   "execution_count": null
  },
  {
   "metadata": {},
   "cell_type": "code",
   "source": [
    "# Step 4: Apply K-Means clustering\n",
    "optimal_clusters = 4  # Assuming 4 is chosen from the Elbow plot\n",
    "kmeans = KMeans(n_clusters=optimal_clusters, random_state=0)\n",
    "cluster_labels = kmeans.fit_predict(features_scaled)\n",
    "\n",
    "# Step 5: Analyze the clusters\n",
    "data_borough['Cluster'] = cluster_labels\n",
    "cluster_centers = pd.DataFrame(scaler.inverse_transform(kmeans.cluster_centers_), columns=features.columns)\n",
    "print(\"Cluster Centers:\")\n",
    "print(cluster_centers)\n",
    "print(\"\\nCluster Counts:\")\n",
    "print(data_borough['Cluster'].value_counts())"
   ],
   "id": "890aa2db217ee703",
   "outputs": [],
   "execution_count": null
  }
 ],
 "metadata": {
  "kernelspec": {
   "display_name": "Python 3",
   "language": "python",
   "name": "python3"
  },
  "language_info": {
   "codemirror_mode": {
    "name": "ipython",
    "version": 2
   },
   "file_extension": ".py",
   "mimetype": "text/x-python",
   "name": "python",
   "nbconvert_exporter": "python",
   "pygments_lexer": "ipython2",
   "version": "2.7.6"
  }
 },
 "nbformat": 4,
 "nbformat_minor": 5
}
